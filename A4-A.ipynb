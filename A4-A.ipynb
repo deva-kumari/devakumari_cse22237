{
  "nbformat": 4,
  "nbformat_minor": 0,
  "metadata": {
    "colab": {
      "provenance": [],
      "mount_file_id": "1AFHNLaVxfFhznLXV0-8FIv9A0oSCKIdf",
      "authorship_tag": "ABX9TyNpLcdtOnPV6sdG7ci+beoY",
      "include_colab_link": true
    },
    "kernelspec": {
      "name": "python3",
      "display_name": "Python 3"
    },
    "language_info": {
      "name": "python"
    }
  },
  "cells": [
    {
      "cell_type": "markdown",
      "metadata": {
        "id": "view-in-github",
        "colab_type": "text"
      },
      "source": [
        "<a href=\"https://colab.research.google.com/github/deva-kumari/devakumari_cse22237/blob/main/A4-A.ipynb\" target=\"_parent\"><img src=\"https://colab.research.google.com/assets/colab-badge.svg\" alt=\"Open In Colab\"/></a>"
      ]
    },
    {
      "cell_type": "code",
      "execution_count": 17,
      "metadata": {
        "colab": {
          "base_uri": "https://localhost:8080/"
        },
        "id": "eDWNRMJJcoI7",
        "outputId": "4f6ee490-7bbe-4ba8-eb75-cf1e4564c277"
      },
      "outputs": [
        {
          "output_type": "stream",
          "name": "stdout",
          "text": [
            "Mean Price: 1560.663453815261\n",
            "Variance Price: 58732.365352539186\n"
          ]
        }
      ],
      "source": [
        "import pandas as pd\n",
        "import statistics\n",
        "\n",
        "# Load the data\n",
        "df_stock = pd.read_excel(file_path, sheet_name='IRCTC Stock Price')\n",
        "\n",
        "# Extract the Price data\n",
        "price_data = df_stock['Price'].dropna()\n",
        "\n",
        "# Calculate mean and variance\n",
        "mean_price = statistics.mean(price_data)\n",
        "variance_price = statistics.variance(price_data)\n",
        "\n",
        "print(f\"Mean Price: {mean_price}\")\n",
        "print(f\"Variance Price: {variance_price}\")\n"
      ]
    }
  ]
}