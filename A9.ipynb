{
 "cells": [
  {
   "cell_type": "code",
   "execution_count": 3,
   "id": "0c601b97",
   "metadata": {},
   "outputs": [
    {
     "name": "stdout",
     "output_type": "stream",
     "text": [
      "Missing values detected. Filling missing values with 0.\n",
      "\n",
      "Cosine Similarity: 0.9999999999999885\n"
     ]
    }
   ],
   "source": [
    "import pandas as pd\n",
    "import numpy as np\n",
    "\n",
    "# Define the path to the file\n",
    "file_path = r'C:\\Users\\year3\\Downloads\\Lab Session Data.xlsx'\n",
    "\n",
    "try:\n",
    "    # Load the dataset\n",
    "    df = pd.read_excel(file_path, sheet_name='thyroid0387_UCI')\n",
    "\n",
    "    # Convert all columns to numeric, forcing errors to NaN (Not a Number)\n",
    "    df = df.apply(pd.to_numeric, errors='coerce')\n",
    "\n",
    "    # Check for missing values\n",
    "    if df.isnull().values.any():\n",
    "        print(\"Missing values detected. Filling missing values with 0.\")\n",
    "        df = df.fillna(0)  # Fill missing values with 0 or another imputation strategy\n",
    "\n",
    "    # Extract the complete vectors for the first two observations\n",
    "    vector1 = df.loc[0].values\n",
    "    vector2 = df.loc[1].values\n",
    "\n",
    "    # Calculate the dot product of the two vectors\n",
    "    dot_product = np.dot(vector1, vector2)\n",
    "\n",
    "    # Calculate the magnitudes (norms) of the vectors\n",
    "    norm_vector1 = np.linalg.norm(vector1)\n",
    "    norm_vector2 = np.linalg.norm(vector2)\n",
    "\n",
    "    # Calculate the Cosine Similarity\n",
    "    if norm_vector1 > 0 and norm_vector2 > 0:\n",
    "        cosine_similarity = dot_product / (norm_vector1 * norm_vector2)\n",
    "    else:\n",
    "        cosine_similarity = float('nan')  # Handle the case where one or both vectors are zero vectors\n",
    "\n",
    "    print(\"\\nCosine Similarity:\", cosine_similarity)\n",
    "\n",
    "except FileNotFoundError:\n",
    "    print(f\"Error: The file at path '{file_path}' was not found. Please check the file path and try again.\")\n",
    "except ValueError as ve:\n",
    "    print(f\"Value Error: {ve}\")\n",
    "except Exception as e:\n",
    "    print(f\"An error occurred: {e}\")\n"
   ]
  },
  {
   "cell_type": "code",
   "execution_count": null,
   "id": "42dfcdc1",
   "metadata": {},
   "outputs": [],
   "source": []
  }
 ],
 "metadata": {
  "kernelspec": {
   "display_name": "Python 3 (ipykernel)",
   "language": "python",
   "name": "python3"
  },
  "language_info": {
   "codemirror_mode": {
    "name": "ipython",
    "version": 3
   },
   "file_extension": ".py",
   "mimetype": "text/x-python",
   "name": "python",
   "nbconvert_exporter": "python",
   "pygments_lexer": "ipython3",
   "version": "3.11.4"
  }
 },
 "nbformat": 4,
 "nbformat_minor": 5
}
