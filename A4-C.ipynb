{
 "cells": [
  {
   "cell_type": "code",
   "execution_count": 5,
   "id": "11d6c300",
   "metadata": {},
   "outputs": [
    {
     "name": "stdout",
     "output_type": "stream",
     "text": [
      "File loaded successfully.\n",
      "  Customer  Candies (#)  Mangoes (Kg)  Milk Packets (#)  Payment (Rs)  \\\n",
      "0      C_1           20             6                 2           386   \n",
      "1      C_2           16             3                 6           289   \n",
      "2      C_3           27             6                 2           393   \n",
      "3      C_4           19             1                 2           110   \n",
      "4      C_5           24             4                 2           280   \n",
      "\n",
      "   Unnamed: 5  Unnamed: 6  Unnamed: 7  Unnamed: 8  Unnamed: 9  ...  \\\n",
      "0         NaN         NaN         NaN         NaN         NaN  ...   \n",
      "1         NaN         NaN         NaN         NaN         NaN  ...   \n",
      "2         NaN         NaN         NaN         NaN         NaN  ...   \n",
      "3         NaN         NaN         NaN         NaN         NaN  ...   \n",
      "4         NaN         NaN         NaN         NaN         NaN  ...   \n",
      "\n",
      "   Unnamed: 12  Unnamed: 13  Unnamed: 14  Unnamed: 15  Unnamed: 16  \\\n",
      "0          NaN          NaN          NaN          NaN          NaN   \n",
      "1          NaN          NaN          NaN          NaN          NaN   \n",
      "2          NaN          NaN          NaN          NaN          NaN   \n",
      "3          NaN          NaN          NaN          NaN          NaN   \n",
      "4          NaN          NaN          NaN          NaN          NaN   \n",
      "\n",
      "   Unnamed: 17  Unnamed: 18  Candy  Mango  Milk  \n",
      "0          NaN          NaN    1.0   55.0  18.0  \n",
      "1          NaN          NaN    NaN    NaN   NaN  \n",
      "2          NaN          NaN    NaN    NaN   NaN  \n",
      "3          NaN          NaN    NaN    NaN   NaN  \n",
      "4          NaN          NaN    NaN    NaN   NaN  \n",
      "\n",
      "[5 rows x 22 columns]\n",
      "'Date' column not found.\n"
     ]
    }
   ],
   "source": [
    "import pandas as pd\n",
    "\n",
    "# Correctly specify the path to your Excel file\n",
    "file_path = r\"C:\\Users\\year3\\Downloads\\Lab Session Data.xlsx\"\n",
    "\n",
    "# Load the Excel file into a DataFrame\n",
    "try:\n",
    "    df = pd.read_excel(file_path)\n",
    "    print(\"File loaded successfully.\")\n",
    "    print(df.head())  # Display the first few rows to verify\n",
    "\n",
    "    # Check if 'Date' column exists\n",
    "    if 'Date' in df.columns:\n",
    "        df['Date'] = pd.to_datetime(df['Date'])\n",
    "        print(\"Date column converted successfully.\")\n",
    "\n",
    "        # Extract April data\n",
    "        april_data = df[df['Date'].dt.month == 4]\n",
    "        print(\"April data extracted successfully.\")\n",
    "        print(april_data.head())\n",
    "\n",
    "        # Check if 'Close' column exists\n",
    "        if 'Close' in df.columns:\n",
    "            april_prices = april_data['Close'].tolist()\n",
    "            historical_prices = df['Close'].tolist()\n",
    "\n",
    "            # Calculate the sample mean for April\n",
    "            sample_mean_april = sum(april_prices) / len(april_prices)\n",
    "\n",
    "            # Calculate the population mean from historical data\n",
    "            population_mean = sum(historical_prices) / len(historical_prices)\n",
    "\n",
    "            # Print the results\n",
    "            print(f\"Sample Mean for April: {sample_mean_april:.2f}\")\n",
    "            print(f\"Population Mean: {population_mean:.2f}\")\n",
    "\n",
    "            # Compare the means\n",
    "            if sample_mean_april > population_mean:\n",
    "                print(\"The sample mean for April is higher than the population mean.\")\n",
    "            elif sample_mean_april < population_mean:\n",
    "                print(\"The sample mean for April is lower than the population mean.\")\n",
    "            else:\n",
    "                print(\"The sample mean for April is equal to the population mean.\")\n",
    "        else:\n",
    "            print(\"'Close' column not found.\")\n",
    "    else:\n",
    "        print(\"'Date' column not found.\")\n",
    "\n",
    "except Exception as e:\n",
    "    print(f\"Error: {e}\")\n"
   ]
  },
  {
   "cell_type": "code",
   "execution_count": null,
   "id": "f4b8bb88",
   "metadata": {},
   "outputs": [],
   "source": []
  },
  {
   "cell_type": "code",
   "execution_count": null,
   "id": "a0b63086",
   "metadata": {},
   "outputs": [],
   "source": []
  }
 ],
 "metadata": {
  "kernelspec": {
   "display_name": "Python 3 (ipykernel)",
   "language": "python",
   "name": "python3"
  },
  "language_info": {
   "codemirror_mode": {
    "name": "ipython",
    "version": 3
   },
   "file_extension": ".py",
   "mimetype": "text/x-python",
   "name": "python",
   "nbconvert_exporter": "python",
   "pygments_lexer": "ipython3",
   "version": "3.11.4"
  }
 },
 "nbformat": 4,
 "nbformat_minor": 5
}
