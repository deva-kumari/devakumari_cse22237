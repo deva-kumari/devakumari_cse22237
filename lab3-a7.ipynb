{
  "cells": [
    {
      "cell_type": "markdown",
      "metadata": {
        "id": "view-in-github",
        "colab_type": "text"
      },
      "source": [
        "<a href=\"https://colab.research.google.com/github/deva-kumari/devakumari_cse22237/blob/main/lab3-a7.ipynb\" target=\"_parent\"><img src=\"https://colab.research.google.com/assets/colab-badge.svg\" alt=\"Open In Colab\"/></a>"
      ]
    },
    {
      "cell_type": "code",
      "source": [
        "import pandas as pd\n",
        "from sklearn.model_selection import train_test_split\n",
        "from sklearn.neighbors import KNeighborsClassifier\n",
        "from sklearn.metrics import classification_report, confusion_matrix\n",
        "from sklearn.preprocessing import StandardScaler\n",
        "\n",
        "# Load the dataset\n",
        "file_path = '/mnt/cc_embed_data.csv'  # Replace with the actual path to your dataset\n",
        "df = pd.read_csv(file_path)\n",
        "\n",
        "# Define the label column\n",
        "label_column = 'Final_Marks'  # Replace with the actual name of your label column\n",
        "\n",
        "# Separate features and labels\n",
        "X = df.drop(columns=[label_column])  # Drop the label column to get features\n",
        "y = df[label_column]  # The label column\n",
        "\n",
        "# Normalize features\n",
        "scaler = StandardScaler()\n",
        "X_scaled = scaler.fit_transform(X)\n",
        "\n",
        "# Split the data into training and testing sets\n",
        "X_train, X_test, y_train, y_test = train_test_split(X_scaled, y, test_size=0.3, random_state=42)\n",
        "\n",
        "# Create the kNN classifier with k=3\n",
        "neigh = KNeighborsClassifier(n_neighbors=3)\n",
        "\n",
        "# Train the classifier\n",
        "neigh.fit(X_train, y_train)\n",
        "\n",
        "# Predict the class for all test vectors\n",
        "y_pred_all = neigh.predict(X_test)\n",
        "print('Predicted classes for all test vectors:')\n",
        "print(y_pred_all)\n",
        "\n",
        "# Predict the class for a specific test vector\n",
        "# Choose a specific index from the test set to test\n",
        "test_index = 0  # Replace with the index of the test vector you want to classify\n",
        "test_vect = X_test[test_index].reshape(1, -1)  # Reshape to match the expected input shape\n",
        "\n",
        "# Perform classification\n",
        "test_prediction = neigh.predict(test_vect)\n",
        "print(f'Predicted class for test vector at index {test_index}: {test_prediction[0]}')\n"
      ],
      "metadata": {
        "colab": {
          "base_uri": "https://localhost:8080/"
        },
        "id": "3NhvY9jtya5B",
        "outputId": "0239f671-2bb4-4e74-c672-6e6e1b21025b"
      },
      "execution_count": 12,
      "outputs": [
        {
          "output_type": "stream",
          "name": "stdout",
          "text": [
            "Predicted classes for all test vectors:\n",
            "[ 6  7  6  3  2  4  4  4  5  4  4  3  3  6  3  5  6  4  6  3  3  6  4  5\n",
            "  8  2  5  6  4  6  6  4  7  3  5  5  6  4  6  4  1  6  4  4  6  6  5  4\n",
            "  4  6  4  6  4  3  7  2  4  6  4  3  6  6  7  8  1  6  5  8  4  1  5  4\n",
            "  3  2  3  7  4  6  3  6  6  7  2  3  5  7  6  6  8  6  4  6  2  9  6  1\n",
            "  6  3  6  4  4  5 10  5  2  5  6  9  6  7  7  6  8  3  4  7  8  6  6  5\n",
            "  4  6  6  4  6  5  3  5  6  2 10  5  6  4  6  7  5  4  6 10  8  2  4  7\n",
            "  2  5  6  3  8  6  6  5  4  7  8  2  7  1  4  5  5  5  4  4  6  6  3  7\n",
            "  7  6  4  4  3  7  4  3  4  6  6  7  3  7  1  4  4  5 10  6  7  4  6  4\n",
            "  7  8  6  5  6  4  6  6  6  1  7  5  3  6  6  3  2  3  3  6  5  6  3  5\n",
            " 10  4  4  5  2 10  2  5  8 10  6  4  4  4  7  7  7  6  4  4  5  4  4  7\n",
            " 10  6  5  1  4  6  4  6  4  5  8  2  2  5  6  6  6  2  1  3  5  6  7  4\n",
            "  6 10  4  4  6  6  7  6  7  6  7  9  4  6  6  6  3  4  6  3  4  4  7  3\n",
            "  5  4  6  3  5  4  6  4  8  5  6  4  4  3  7  7  4  5  4  5  7  4  4  4\n",
            "  5  6  7  5 10  3  7  3  6  7  3  3  2  7  6  6  4  3  1  3  3  4  7  7\n",
            "  5  9  4  3  7  4  6  7  3  3  3  7  7  5  4  8  7]\n",
            "Predicted class for test vector at index 0: 6\n"
          ]
        }
      ]
    }
  ],
  "metadata": {
    "colab": {
      "name": "Welcome To Colab",
      "provenance": [],
      "include_colab_link": true
    },
    "kernelspec": {
      "display_name": "Python 3",
      "name": "python3"
    }
  },
  "nbformat": 4,
  "nbformat_minor": 0
}