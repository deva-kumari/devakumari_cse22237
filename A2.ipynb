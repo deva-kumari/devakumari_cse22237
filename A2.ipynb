{
  "nbformat": 4,
  "nbformat_minor": 0,
  "metadata": {
    "colab": {
      "provenance": [],
      "mount_file_id": "1AFHNLaVxfFhznLXV0-8FIv9A0oSCKIdf",
      "authorship_tag": "ABX9TyO4cXjinEDs1wNZveIO5MWY",
      "include_colab_link": true
    },
    "kernelspec": {
      "name": "python3",
      "display_name": "Python 3"
    },
    "language_info": {
      "name": "python"
    }
  },
  "cells": [
    {
      "cell_type": "markdown",
      "metadata": {
        "id": "view-in-github",
        "colab_type": "text"
      },
      "source": [
        "<a href=\"https://colab.research.google.com/github/deva-kumari/devakumari_cse22237/blob/main/A2.ipynb\" target=\"_parent\"><img src=\"https://colab.research.google.com/assets/colab-badge.svg\" alt=\"Open In Colab\"/></a>"
      ]
    },
    {
      "cell_type": "code",
      "execution_count": 10,
      "metadata": {
        "colab": {
          "base_uri": "https://localhost:8080/"
        },
        "id": "eDWNRMJJcoI7",
        "outputId": "a4ec6c78-684d-4443-e581-9603a62992ef"
      },
      "outputs": [
        {
          "output_type": "stream",
          "name": "stdout",
          "text": [
            "Product costs: [ 1. 55. 18.]\n"
          ]
        }
      ],
      "source": [
        "import pandas as pd\n",
        "import numpy as np\n",
        "\n",
        "# Load the data\n",
        "file_path = '/mnt/Lab Session Data.xlsx'\n",
        "df = pd.read_excel(file_path, sheet_name='Purchase data')\n",
        "\n",
        "# Clean the data\n",
        "df_cleaned = df[['Candies (#)', 'Mangoes (Kg)', 'Milk Packets (#)', 'Payment (Rs)']].dropna()\n",
        "\n",
        "# Extract features and target variable\n",
        "A = df_cleaned.iloc[:, :-1].values  # Product quantities\n",
        "C = df_cleaned.iloc[:, -1].values   # Payment\n",
        "\n",
        "# Ensure A and C are numeric numpy arrays\n",
        "A = A.astype(np.float64)\n",
        "C = C.astype(np.float64)\n",
        "\n",
        "# Compute the pseudo-inverse of A\n",
        "A_pseudo_inverse = np.linalg.pinv(A)\n",
        "\n",
        "# Calculate the model vector X (product costs)\n",
        "product_costs = np.dot(A_pseudo_inverse, C)\n",
        "\n",
        "# Display the product costs\n",
        "print(\"Product costs:\", product_costs)\n"
      ]
    }
  ]
}