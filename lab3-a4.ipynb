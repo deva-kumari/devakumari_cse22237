{
  "cells": [
    {
      "cell_type": "markdown",
      "metadata": {
        "id": "view-in-github",
        "colab_type": "text"
      },
      "source": [
        "<a href=\"https://colab.research.google.com/github/deva-kumari/devakumari_cse22237/blob/main/lab3-a4.ipynb\" target=\"_parent\"><img src=\"https://colab.research.google.com/assets/colab-badge.svg\" alt=\"Open In Colab\"/></a>"
      ]
    },
    {
      "cell_type": "code",
      "source": [
        "import pandas as pd\n",
        "from sklearn.model_selection import train_test_split\n",
        "\n",
        "# Load the dataset\n",
        "file_path = '/mnt/cc_embed_data.csv'\n",
        "dataset = pd.read_csv(file_path)\n",
        "\n",
        "# Assume 'Final_Marks' is the target class, and you want to use it as y\n",
        "X = dataset.drop(columns=['Final_Marks'])\n",
        "y = dataset['Final_Marks']\n",
        "\n",
        "# If the dataset has more than two classes, filter them\n",
        "# For example, let's keep only classes 5 and 10\n",
        "filtered_dataset = dataset[dataset['Final_Marks'].isin([5, 10])]\n",
        "\n",
        "X_filtered = filtered_dataset.drop(columns=['Final_Marks'])\n",
        "y_filtered = filtered_dataset['Final_Marks']\n",
        "\n",
        "# Split the dataset into train and test sets\n",
        "X_train, X_test, y_train, y_test = train_test_split(X_filtered, y_filtered, test_size=0.3, random_state=42)\n",
        "\n",
        "# Print the shape of the resulting sets\n",
        "print(f\"X_train shape: {X_train.shape}\")\n",
        "print(f\"X_test shape: {X_test.shape}\")\n",
        "print(f\"y_train shape: {y_train.shape}\")\n",
        "print(f\"y_test shape: {y_test.shape}\")\n"
      ],
      "metadata": {
        "colab": {
          "base_uri": "https://localhost:8080/"
        },
        "id": "3NhvY9jtya5B",
        "outputId": "d80332c1-46c4-4d88-bca2-ad6469012be5"
      },
      "execution_count": 5,
      "outputs": [
        {
          "output_type": "stream",
          "name": "stdout",
          "text": [
            "X_train shape: (182, 768)\n",
            "X_test shape: (78, 768)\n",
            "y_train shape: (182,)\n",
            "y_test shape: (78,)\n"
          ]
        }
      ]
    }
  ],
  "metadata": {
    "colab": {
      "name": "Welcome To Colab",
      "provenance": [],
      "include_colab_link": true
    },
    "kernelspec": {
      "display_name": "Python 3",
      "name": "python3"
    }
  },
  "nbformat": 4,
  "nbformat_minor": 0
}