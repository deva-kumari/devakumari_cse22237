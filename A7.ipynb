{
 "cells": [
  {
   "cell_type": "code",
   "execution_count": 13,
   "id": "6efd20e8",
   "metadata": {},
   "outputs": [
    {
     "name": "stdout",
     "output_type": "stream",
     "text": [
      "Data normalization and scaling completed.\n",
      "\n",
      "Scaled Data:\n",
      "      Record ID       age sex on thyroxine query on thyroxine  \\\n",
      "0  0.000000e+00 -0.037634   F            f                  f   \n",
      "1  3.410871e-08 -0.037634   F            f                  f   \n",
      "2  9.891527e-07 -0.027499   F            f                  f   \n",
      "3  6.934301e-05 -0.031722   F            f                  f   \n",
      "4  6.937712e-05 -0.035100   F            f                  f   \n",
      "\n",
      "  on antithyroid medication sick pregnant thyroid surgery I131 treatment  ...  \\\n",
      "0                         f    f        f               f              f  ...   \n",
      "1                         f    f        f               f              f  ...   \n",
      "2                         f    f        f               f              f  ...   \n",
      "3                         f    f        f               f              f  ...   \n",
      "4                         f    f        f               f              f  ...   \n",
      "\n",
      "  TT4 measured  TT4 T4U measured T4U FTI measured FTI TBG measured TBG  \\\n",
      "0            f    ?            f   ?            f   ?            f   ?   \n",
      "1            t  128            f   ?            f   ?            f   ?   \n",
      "2            f    ?            f   ?            f   ?            t  11   \n",
      "3            f    ?            f   ?            f   ?            t  26   \n",
      "4            f    ?            f   ?            f   ?            t  36   \n",
      "\n",
      "  referral source     Condition  \n",
      "0           other  NO CONDITION  \n",
      "1           other  NO CONDITION  \n",
      "2           other  NO CONDITION  \n",
      "3           other  NO CONDITION  \n",
      "4           other             S  \n",
      "\n",
      "[5 rows x 31 columns]\n"
     ]
    }
   ],
   "source": [
    "import pandas as pd\n",
    "from sklearn.preprocessing import MinMaxScaler, StandardScaler\n",
    "\n",
    "# Define the path to the file\n",
    "file_path = r'C:\\Users\\year3\\Downloads\\Lab Session Data.xlsx'\n",
    "\n",
    "try:\n",
    "    # Load the dataset\n",
    "    df = pd.read_excel(file_path, sheet_name='thyroid0387_UCI')\n",
    "    \n",
    "    # Identify numeric columns\n",
    "    numeric_cols = df.select_dtypes(include=['number']).columns\n",
    "\n",
    "    # Determine which columns need scaling\n",
    "    # We will use the IQR method to identify outliers\n",
    "    scaling_cols = []  # Columns that need Min-Max Scaling\n",
    "    standardizing_cols = []  # Columns that need Standard Scaling\n",
    "    \n",
    "    for col in numeric_cols:\n",
    "        Q1 = df[col].quantile(0.25)\n",
    "        Q3 = df[col].quantile(0.75)\n",
    "        IQR = Q3 - Q1\n",
    "        \n",
    "        # Check for outliers\n",
    "        if ((df[col] < (Q1 - 1.5 * IQR)) | (df[col] > (Q3 + 1.5 * IQR))).any():\n",
    "            standardizing_cols.append(col)  # Columns with outliers\n",
    "        else:\n",
    "            scaling_cols.append(col)  # Columns without outliers\n",
    "\n",
    "    # Apply Min-Max Scaling\n",
    "    if scaling_cols:\n",
    "        scaler_minmax = MinMaxScaler()\n",
    "        df[scaling_cols] = scaler_minmax.fit_transform(df[scaling_cols])\n",
    "    \n",
    "    # Apply Standard Scaling\n",
    "    if standardizing_cols:\n",
    "        scaler_std = StandardScaler()\n",
    "        df[standardizing_cols] = scaler_std.fit_transform(df[standardizing_cols])\n",
    "\n",
    "    print(\"Data normalization and scaling completed.\")\n",
    "    print(\"\\nScaled Data:\")\n",
    "    print(df.head())\n",
    "\n",
    "except FileNotFoundError:\n",
    "    print(f\"Error: The file at path '{file_path}' was not found. Please check the file path and try again.\")\n",
    "except Exception as e:\n",
    "    print(f\"An error occurred: {e}\")\n"
   ]
  },
  {
   "cell_type": "code",
   "execution_count": null,
   "id": "38fd7bb3",
   "metadata": {},
   "outputs": [],
   "source": []
  },
  {
   "cell_type": "code",
   "execution_count": null,
   "id": "ab018341",
   "metadata": {},
   "outputs": [],
   "source": []
  },
  {
   "cell_type": "code",
   "execution_count": null,
   "id": "57fd5732",
   "metadata": {},
   "outputs": [],
   "source": []
  }
 ],
 "metadata": {
  "kernelspec": {
   "display_name": "Python 3 (ipykernel)",
   "language": "python",
   "name": "python3"
  },
  "language_info": {
   "codemirror_mode": {
    "name": "ipython",
    "version": 3
   },
   "file_extension": ".py",
   "mimetype": "text/x-python",
   "name": "python",
   "nbconvert_exporter": "python",
   "pygments_lexer": "ipython3",
   "version": "3.11.4"
  }
 },
 "nbformat": 4,
 "nbformat_minor": 5
}
