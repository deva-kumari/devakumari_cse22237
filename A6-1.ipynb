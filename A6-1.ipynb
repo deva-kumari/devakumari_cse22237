{
 "cells": [
  {
   "cell_type": "code",
   "execution_count": 12,
   "id": "6abbc720",
   "metadata": {},
   "outputs": [
    {
     "name": "stdout",
     "output_type": "stream",
     "text": [
      "Data imputation completed.\n"
     ]
    }
   ],
   "source": [
    "import pandas as pd\n",
    "\n",
    "# Define the path to the file\n",
    "file_path = r'C:\\Users\\year3\\Downloads\\Lab Session Data.xlsx'\n",
    "\n",
    "try:\n",
    "    # Load the dataset\n",
    "    df = pd.read_excel(file_path, sheet_name='thyroid0387_UCI')\n",
    "\n",
    "    # Identify numeric and categorical columns\n",
    "    numeric_cols = df.select_dtypes(include=['number']).columns\n",
    "    categorical_cols = df.select_dtypes(include=['object']).columns\n",
    "\n",
    "    # Fill missing values for numeric columns\n",
    "    for col in numeric_cols:\n",
    "        # Check for outliers using IQR method\n",
    "        Q1 = df[col].quantile(0.25)\n",
    "        Q3 = df[col].quantile(0.75)\n",
    "        IQR = Q3 - Q1\n",
    "        is_outlier = ((df[col] < (Q1 - 1.5 * IQR)) | (df[col] > (Q3 + 1.5 * IQR))).any()\n",
    "\n",
    "        if is_outlier:\n",
    "            # Fill missing values with median if outliers are present\n",
    "            df[col].fillna(df[col].median(), inplace=True)\n",
    "        else:\n",
    "            # Fill missing values with mean if no outliers are present\n",
    "            df[col].fillna(df[col].mean(), inplace=True)\n",
    "\n",
    "    # Fill missing values in categorical columns with mode\n",
    "    for col in categorical_cols:\n",
    "        df[col].fillna(df[col].mode()[0], inplace=True)\n",
    "\n",
    "    print(\"Data imputation completed.\")\n",
    "\n",
    "except FileNotFoundError:\n",
    "    print(f\"Error: The file at path '{file_path}' was not found. Please check the file path and try again.\")\n",
    "except Exception as e:\n",
    "    print(f\"An error occurred: {e}\")\n"
   ]
  },
  {
   "cell_type": "code",
   "execution_count": null,
   "id": "0e94bb8d",
   "metadata": {},
   "outputs": [],
   "source": []
  },
  {
   "cell_type": "code",
   "execution_count": null,
   "id": "47cc5d55",
   "metadata": {},
   "outputs": [],
   "source": []
  },
  {
   "cell_type": "code",
   "execution_count": null,
   "id": "22f4d77b",
   "metadata": {},
   "outputs": [],
   "source": []
  }
 ],
 "metadata": {
  "kernelspec": {
   "display_name": "Python 3 (ipykernel)",
   "language": "python",
   "name": "python3"
  },
  "language_info": {
   "codemirror_mode": {
    "name": "ipython",
    "version": 3
   },
   "file_extension": ".py",
   "mimetype": "text/x-python",
   "name": "python",
   "nbconvert_exporter": "python",
   "pygments_lexer": "ipython3",
   "version": "3.11.4"
  }
 },
 "nbformat": 4,
 "nbformat_minor": 5
}
