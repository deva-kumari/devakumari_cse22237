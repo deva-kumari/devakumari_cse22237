{
 "cells": [
  {
   "cell_type": "code",
   "execution_count": 2,
   "id": "7eefac7e",
   "metadata": {},
   "outputs": [
    {
     "name": "stdout",
     "output_type": "stream",
     "text": [
      "\n",
      "Jaccard Coefficient (JC): nan\n",
      "Simple Matching Coefficient (SMC): nan\n"
     ]
    }
   ],
   "source": [
    "import pandas as pd\n",
    "import numpy as np\n",
    "\n",
    "# Define the path to the file\n",
    "file_path = r'C:\\Users\\year3\\Downloads\\Lab Session Data.xlsx'\n",
    "\n",
    "try:\n",
    "    # Load the dataset\n",
    "    df = pd.read_excel(file_path, sheet_name='thyroid0387_UCI')\n",
    "\n",
    "    # Identify binary attributes (0/1 values)\n",
    "    binary_cols = df.columns[df.nunique() == 2]  # Simplistic approach for identifying binary columns\n",
    "    \n",
    "    if len(binary_cols) < 1:\n",
    "        raise ValueError(\"No binary columns found in the dataset.\")\n",
    "    \n",
    "    # Extract the first two rows\n",
    "    vector1 = df.loc[0, binary_cols]\n",
    "    vector2 = df.loc[1, binary_cols]\n",
    "\n",
    "    # Calculate f11, f10, f01, and f00\n",
    "    f11 = np.sum((vector1 == 1) & (vector2 == 1))  # Both 1\n",
    "    f10 = np.sum((vector1 == 1) & (vector2 == 0))  # 1 in vector1 only\n",
    "    f01 = np.sum((vector1 == 0) & (vector2 == 1))  # 1 in vector2 only\n",
    "    f00 = np.sum((vector1 == 0) & (vector2 == 0))  # Both 0\n",
    "\n",
    "    # Calculate Jaccard Coefficient (JC)\n",
    "    denominator_jc = f01 + f10 + f11\n",
    "    jc = f11 / denominator_jc if denominator_jc != 0 else float('nan')\n",
    "    \n",
    "    # Calculate Simple Matching Coefficient (SMC)\n",
    "    denominator_smc = f00 + f01 + f10 + f11\n",
    "    smc = (f11 + f00) / denominator_smc if denominator_smc != 0 else float('nan')\n",
    "\n",
    "    print(\"\\nJaccard Coefficient (JC):\", jc)\n",
    "    print(\"Simple Matching Coefficient (SMC):\", smc)\n",
    "\n",
    "except FileNotFoundError:\n",
    "    print(f\"Error: The file at path '{file_path}' was not found. Please check the file path and try again.\")\n",
    "except ValueError as ve:\n",
    "    print(f\"Value Error: {ve}\")\n",
    "except Exception as e:\n",
    "    print(f\"An error occurred: {e}\")\n"
   ]
  },
  {
   "cell_type": "code",
   "execution_count": null,
   "id": "21253faf",
   "metadata": {},
   "outputs": [],
   "source": []
  }
 ],
 "metadata": {
  "kernelspec": {
   "display_name": "Python 3 (ipykernel)",
   "language": "python",
   "name": "python3"
  },
  "language_info": {
   "codemirror_mode": {
    "name": "ipython",
    "version": 3
   },
   "file_extension": ".py",
   "mimetype": "text/x-python",
   "name": "python",
   "nbconvert_exporter": "python",
   "pygments_lexer": "ipython3",
   "version": "3.11.4"
  }
 },
 "nbformat": 4,
 "nbformat_minor": 5
}
