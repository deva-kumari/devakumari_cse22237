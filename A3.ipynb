{
  "nbformat": 4,
  "nbformat_minor": 0,
  "metadata": {
    "colab": {
      "provenance": [],
      "mount_file_id": "1AFHNLaVxfFhznLXV0-8FIv9A0oSCKIdf",
      "authorship_tag": "ABX9TyOdws+6a/0pgRyFqfPAq+R/",
      "include_colab_link": true
    },
    "kernelspec": {
      "name": "python3",
      "display_name": "Python 3"
    },
    "language_info": {
      "name": "python"
    }
  },
  "cells": [
    {
      "cell_type": "markdown",
      "metadata": {
        "id": "view-in-github",
        "colab_type": "text"
      },
      "source": [
        "<a href=\"https://colab.research.google.com/github/deva-kumari/devakumari_cse22237/blob/main/A3.ipynb\" target=\"_parent\"><img src=\"https://colab.research.google.com/assets/colab-badge.svg\" alt=\"Open In Colab\"/></a>"
      ]
    },
    {
      "cell_type": "code",
      "execution_count": 13,
      "metadata": {
        "colab": {
          "base_uri": "https://localhost:8080/"
        },
        "id": "eDWNRMJJcoI7",
        "outputId": "e63c7712-c28c-49fa-de91-cb949f796e38"
      },
      "outputs": [
        {
          "output_type": "stream",
          "name": "stdout",
          "text": [
            "Classification Report:\n",
            "              precision    recall  f1-score   support\n",
            "\n",
            "        POOR       0.67      1.00      0.80         2\n",
            "        RICH       1.00      0.00      0.00         1\n",
            "\n",
            "    accuracy                           0.67         3\n",
            "   macro avg       0.83      0.50      0.40         3\n",
            "weighted avg       0.78      0.67      0.53         3\n",
            "\n",
            "Class distribution in training set:\n",
            "1    5\n",
            "0    2\n",
            "Name: count, dtype: int64\n",
            "Class distribution in test set:\n",
            "0    2\n",
            "1    1\n",
            "Name: count, dtype: int64\n"
          ]
        }
      ],
      "source": [
        "import pandas as pd\n",
        "import numpy as np\n",
        "from sklearn.model_selection import train_test_split\n",
        "from sklearn.preprocessing import LabelEncoder\n",
        "from sklearn.linear_model import LogisticRegression\n",
        "from sklearn.metrics import classification_report\n",
        "\n",
        "# Load the data\n",
        "file_path = '/mnt/Lab Session Data.xlsx'\n",
        "df = pd.read_excel(file_path, sheet_name='Purchase data')\n",
        "\n",
        "# Mark customers as RICH or POOR\n",
        "df['Customer Type'] = np.where(df['Payment (Rs)'] > 200, 'RICH', 'POOR')\n",
        "\n",
        "# Prepare features and target variable\n",
        "X = df[['Candies (#)', 'Mangoes (Kg)', 'Milk Packets (#)']].fillna(0)  # Fill NaN values with 0\n",
        "y = df['Customer Type']\n",
        "\n",
        "# Encode categorical target variable\n",
        "le = LabelEncoder()\n",
        "y_encoded = le.fit_transform(y)\n",
        "\n",
        "# Split the data\n",
        "X_train, X_test, y_train, y_test = train_test_split(X, y_encoded, test_size=0.3, random_state=42)\n",
        "\n",
        "# Train a logistic regression model\n",
        "model = LogisticRegression(max_iter=1000, class_weight='balanced')  # Adjust max_iter and handle class imbalance\n",
        "model.fit(X_train, y_train)\n",
        "\n",
        "# Make predictions\n",
        "y_pred = model.predict(X_test)\n",
        "\n",
        "# Display classification report with zero_division parameter\n",
        "print(\"Classification Report:\")\n",
        "print(classification_report(y_test, y_pred, target_names=le.classes_, zero_division=1))\n",
        "\n",
        "# Check class distribution in the training and test sets\n",
        "print(\"Class distribution in training set:\")\n",
        "print(pd.Series(y_train).value_counts())\n",
        "\n",
        "print(\"Class distribution in test set:\")\n",
        "print(pd.Series(y_test).value_counts())\n"
      ]
    }
  ]
}