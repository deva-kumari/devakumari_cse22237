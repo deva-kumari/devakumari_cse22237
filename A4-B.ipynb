{
  "nbformat": 4,
  "nbformat_minor": 0,
  "metadata": {
    "colab": {
      "provenance": [],
      "mount_file_id": "1AFHNLaVxfFhznLXV0-8FIv9A0oSCKIdf",
      "authorship_tag": "ABX9TyOBCRy0IpA9qwWOdbosa19r",
      "include_colab_link": true
    },
    "kernelspec": {
      "name": "python3",
      "display_name": "Python 3"
    },
    "language_info": {
      "name": "python"
    }
  },
  "cells": [
    {
      "cell_type": "markdown",
      "metadata": {
        "id": "view-in-github",
        "colab_type": "text"
      },
      "source": [
        "<a href=\"https://colab.research.google.com/github/deva-kumari/devakumari_cse22237/blob/main/A4-B.ipynb\" target=\"_parent\"><img src=\"https://colab.research.google.com/assets/colab-badge.svg\" alt=\"Open In Colab\"/></a>"
      ]
    },
    {
      "cell_type": "code",
      "execution_count": 19,
      "metadata": {
        "colab": {
          "base_uri": "https://localhost:8080/"
        },
        "id": "eDWNRMJJcoI7",
        "outputId": "6d99df3d-3f05-4981-d709-cb3393469e66"
      },
      "outputs": [
        {
          "output_type": "stream",
          "name": "stdout",
          "text": [
            "Mean Price on Wednesdays: 1550.706\n",
            "Population Mean Price: 1560.663453815261\n"
          ]
        }
      ],
      "source": [
        "# Convert 'Date' column to datetime\n",
        "df_stock['Date'] = pd.to_datetime(df_stock['Date'])\n",
        "\n",
        "# Filter price data for Wednesdays\n",
        "wednesdays = df_stock[df_stock['Date'].dt.day_name() == 'Wednesday']\n",
        "wednesday_prices = wednesdays['Price']\n",
        "\n",
        "# Calculate sample mean for Wednesdays\n",
        "mean_wednesday_price = statistics.mean(wednesday_prices)\n",
        "\n",
        "# Compare with population mean\n",
        "print(f\"Mean Price on Wednesdays: {mean_wednesday_price}\")\n",
        "print(f\"Population Mean Price: {mean_price}\")\n"
      ]
    }
  ]
}