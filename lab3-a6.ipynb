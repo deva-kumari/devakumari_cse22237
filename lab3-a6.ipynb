{
  "cells": [
    {
      "cell_type": "markdown",
      "metadata": {
        "id": "view-in-github",
        "colab_type": "text"
      },
      "source": [
        "<a href=\"https://colab.research.google.com/github/deva-kumari/devakumari_cse22237/blob/main/lab3-a6.ipynb\" target=\"_parent\"><img src=\"https://colab.research.google.com/assets/colab-badge.svg\" alt=\"Open In Colab\"/></a>"
      ]
    },
    {
      "cell_type": "code",
      "source": [
        "import pandas as pd\n",
        "from sklearn.model_selection import train_test_split\n",
        "from sklearn.neighbors import KNeighborsClassifier\n",
        "from sklearn.metrics import classification_report, confusion_matrix\n",
        "from sklearn.preprocessing import StandardScaler\n",
        "\n",
        "# Load the dataset\n",
        "file_path = '/mnt/cc_embed_data.csv'  # Replace with the actual path to your dataset\n",
        "df = pd.read_csv(file_path)\n",
        "\n",
        "# Define the label column\n",
        "label_column = 'Final_Marks'  # Replace with the actual name of your label column\n",
        "\n",
        "# Separate features and labels\n",
        "X = df.drop(columns=[label_column])  # Drop the label column to get features\n",
        "y = df[label_column]  # The label column\n",
        "\n",
        "# Normalize features\n",
        "scaler = StandardScaler()\n",
        "X_scaled = scaler.fit_transform(X)\n",
        "\n",
        "# Split the data into training and testing sets\n",
        "X_train, X_test, y_train, y_test = train_test_split(X_scaled, y, test_size=0.3, random_state=42)\n",
        "\n",
        "# Create the kNN classifier with k=3\n",
        "neigh = KNeighborsClassifier(n_neighbors=3)\n",
        "\n",
        "# Train the classifier\n",
        "neigh.fit(X_train, y_train)\n",
        "\n",
        "# Evaluate the classifier using the test set\n",
        "accuracy = neigh.score(X_test, y_test)\n",
        "\n",
        "# Print the accuracy score\n",
        "print(f'Accuracy: {accuracy:.2f}')\n",
        "\n",
        "# Make predictions on the test set\n",
        "y_pred = neigh.predict(X_test)\n",
        "\n",
        "# Print classification report with zero_division parameter\n",
        "print('Classification Report:')\n",
        "print(classification_report(y_test, y_pred, zero_division=1))  # zero_division=1 to handle undefined metrics\n",
        "\n",
        "# Print confusion matrix\n",
        "print('Confusion Matrix:')\n",
        "print(confusion_matrix(y_test, y_pred))\n"
      ],
      "metadata": {
        "colab": {
          "base_uri": "https://localhost:8080/"
        },
        "id": "3NhvY9jtya5B",
        "outputId": "1b6b78a3-d731-4a12-f07d-deefafc29ad3"
      },
      "execution_count": 11,
      "outputs": [
        {
          "output_type": "stream",
          "name": "stdout",
          "text": [
            "Accuracy: 0.31\n",
            "Classification Report:\n",
            "              precision    recall  f1-score   support\n",
            "\n",
            "           0       1.00      0.00      0.00         2\n",
            "           1       0.00      0.00      1.00         6\n",
            "           2       0.22      0.24      0.23        17\n",
            "           3       0.26      0.27      0.26        41\n",
            "           4       0.26      0.38      0.31        53\n",
            "           5       0.43      0.31      0.36        62\n",
            "           6       0.32      0.46      0.38        61\n",
            "           7       0.44      0.31      0.36        65\n",
            "           8       0.14      0.09      0.11        22\n",
            "           9       0.50      0.20      0.29        10\n",
            "          10       0.30      0.21      0.25        14\n",
            "\n",
            "    accuracy                           0.31       353\n",
            "   macro avg       0.35      0.22      0.32       353\n",
            "weighted avg       0.33      0.31      0.32       353\n",
            "\n",
            "Confusion Matrix:\n",
            "[[ 0  1  0  0  1  0  0  0  0  0  0]\n",
            " [ 0  0  1  1  2  0  2  0  0  0  0]\n",
            " [ 0  3  4  4  3  0  2  1  0  0  0]\n",
            " [ 0  2  3 11 18  4  3  0  0  0  0]\n",
            " [ 0  3  4 12 20  3  5  3  2  0  1]\n",
            " [ 0  0  2  6 14 19 17  1  2  0  1]\n",
            " [ 0  0  1  5  6 10 28  7  2  0  2]\n",
            " [ 0  0  3  4  7  3 20 20  5  1  2]\n",
            " [ 0  0  0  0  3  2  7  8  2  0  0]\n",
            " [ 0  0  0  0  1  1  1  3  1  2  1]\n",
            " [ 0  1  0  0  3  2  2  2  0  1  3]]\n"
          ]
        }
      ]
    }
  ],
  "metadata": {
    "colab": {
      "name": "Welcome To Colab",
      "provenance": [],
      "include_colab_link": true
    },
    "kernelspec": {
      "display_name": "Python 3",
      "name": "python3"
    }
  },
  "nbformat": 4,
  "nbformat_minor": 0
}